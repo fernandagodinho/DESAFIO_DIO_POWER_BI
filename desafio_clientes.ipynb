{
  "cells": [
    {
      "cell_type": "markdown",
      "metadata": {
        "id": "view-in-github",
        "colab_type": "text"
      },
      "source": [
        "<a href=\"https://colab.research.google.com/github/fernandagodinho/DESAFIO_DIO_POWER_BI/blob/main/desafio_clientes.ipynb\" target=\"_parent\"><img src=\"https://colab.research.google.com/assets/colab-badge.svg\" alt=\"Open In Colab\"/></a>"
      ]
    },
    {
      "cell_type": "code",
      "execution_count": null,
      "id": "8513b0fe-5572-494f-bb90-9d48872ea9da",
      "metadata": {
        "id": "8513b0fe-5572-494f-bb90-9d48872ea9da"
      },
      "outputs": [],
      "source": [
        "import pandas as pd"
      ]
    },
    {
      "cell_type": "code",
      "execution_count": null,
      "id": "e5046fc0-d1d1-415e-ab05-1ae297e18c15",
      "metadata": {
        "id": "e5046fc0-d1d1-415e-ab05-1ae297e18c15"
      },
      "outputs": [],
      "source": [
        "import numpy as np\n",
        "import matplotlib.pyplot as plt"
      ]
    },
    {
      "cell_type": "code",
      "execution_count": null,
      "id": "a514a4ec-6dcc-44d6-8136-20d605c81b95",
      "metadata": {
        "id": "a514a4ec-6dcc-44d6-8136-20d605c81b95"
      },
      "outputs": [],
      "source": [
        "df = pd.read_csv('/banvic_data/clientes.csv')"
      ]
    },
    {
      "cell_type": "code",
      "execution_count": null,
      "id": "ceaa4c5d-fb43-4e34-a8d6-f71eb82f1a7b",
      "metadata": {
        "id": "ceaa4c5d-fb43-4e34-a8d6-f71eb82f1a7b",
        "outputId": "7aa680bf-cb57-427e-9191-824d6c60ae10"
      },
      "outputs": [
        {
          "data": {
            "text/plain": [
              "(998, 10)"
            ]
          },
          "execution_count": 8,
          "metadata": {},
          "output_type": "execute_result"
        }
      ],
      "source": [
        "df.shape"
      ]
    },
    {
      "cell_type": "code",
      "execution_count": null,
      "id": "c05f2503-d3b5-4d2c-8e9b-576ed6f16458",
      "metadata": {
        "id": "c05f2503-d3b5-4d2c-8e9b-576ed6f16458",
        "outputId": "6266459d-229f-46e4-d6e5-e07b907b8e5d"
      },
      "outputs": [
        {
          "data": {
            "text/html": [
              "<div>\n",
              "<style scoped>\n",
              "    .dataframe tbody tr th:only-of-type {\n",
              "        vertical-align: middle;\n",
              "    }\n",
              "\n",
              "    .dataframe tbody tr th {\n",
              "        vertical-align: top;\n",
              "    }\n",
              "\n",
              "    .dataframe thead th {\n",
              "        text-align: right;\n",
              "    }\n",
              "</style>\n",
              "<table border=\"1\" class=\"dataframe\">\n",
              "  <thead>\n",
              "    <tr style=\"text-align: right;\">\n",
              "      <th></th>\n",
              "      <th>cod_cliente</th>\n",
              "      <th>primeiro_nome</th>\n",
              "      <th>ultimo_nome</th>\n",
              "      <th>email</th>\n",
              "      <th>tipo_cliente</th>\n",
              "      <th>data_inclusao</th>\n",
              "      <th>cpfcnpj</th>\n",
              "      <th>data_nascimento</th>\n",
              "      <th>endereco</th>\n",
              "      <th>cep</th>\n",
              "    </tr>\n",
              "  </thead>\n",
              "  <tbody>\n",
              "    <tr>\n",
              "      <th>0</th>\n",
              "      <td>False</td>\n",
              "      <td>False</td>\n",
              "      <td>False</td>\n",
              "      <td>False</td>\n",
              "      <td>False</td>\n",
              "      <td>False</td>\n",
              "      <td>False</td>\n",
              "      <td>False</td>\n",
              "      <td>False</td>\n",
              "      <td>False</td>\n",
              "    </tr>\n",
              "    <tr>\n",
              "      <th>1</th>\n",
              "      <td>False</td>\n",
              "      <td>False</td>\n",
              "      <td>False</td>\n",
              "      <td>False</td>\n",
              "      <td>False</td>\n",
              "      <td>False</td>\n",
              "      <td>False</td>\n",
              "      <td>False</td>\n",
              "      <td>False</td>\n",
              "      <td>False</td>\n",
              "    </tr>\n",
              "    <tr>\n",
              "      <th>2</th>\n",
              "      <td>False</td>\n",
              "      <td>False</td>\n",
              "      <td>False</td>\n",
              "      <td>False</td>\n",
              "      <td>False</td>\n",
              "      <td>False</td>\n",
              "      <td>False</td>\n",
              "      <td>False</td>\n",
              "      <td>False</td>\n",
              "      <td>False</td>\n",
              "    </tr>\n",
              "    <tr>\n",
              "      <th>3</th>\n",
              "      <td>False</td>\n",
              "      <td>False</td>\n",
              "      <td>False</td>\n",
              "      <td>False</td>\n",
              "      <td>False</td>\n",
              "      <td>False</td>\n",
              "      <td>False</td>\n",
              "      <td>False</td>\n",
              "      <td>False</td>\n",
              "      <td>False</td>\n",
              "    </tr>\n",
              "    <tr>\n",
              "      <th>4</th>\n",
              "      <td>False</td>\n",
              "      <td>False</td>\n",
              "      <td>False</td>\n",
              "      <td>False</td>\n",
              "      <td>False</td>\n",
              "      <td>False</td>\n",
              "      <td>False</td>\n",
              "      <td>False</td>\n",
              "      <td>False</td>\n",
              "      <td>False</td>\n",
              "    </tr>\n",
              "    <tr>\n",
              "      <th>...</th>\n",
              "      <td>...</td>\n",
              "      <td>...</td>\n",
              "      <td>...</td>\n",
              "      <td>...</td>\n",
              "      <td>...</td>\n",
              "      <td>...</td>\n",
              "      <td>...</td>\n",
              "      <td>...</td>\n",
              "      <td>...</td>\n",
              "      <td>...</td>\n",
              "    </tr>\n",
              "    <tr>\n",
              "      <th>993</th>\n",
              "      <td>False</td>\n",
              "      <td>False</td>\n",
              "      <td>False</td>\n",
              "      <td>False</td>\n",
              "      <td>False</td>\n",
              "      <td>False</td>\n",
              "      <td>False</td>\n",
              "      <td>False</td>\n",
              "      <td>False</td>\n",
              "      <td>False</td>\n",
              "    </tr>\n",
              "    <tr>\n",
              "      <th>994</th>\n",
              "      <td>False</td>\n",
              "      <td>False</td>\n",
              "      <td>False</td>\n",
              "      <td>False</td>\n",
              "      <td>False</td>\n",
              "      <td>False</td>\n",
              "      <td>False</td>\n",
              "      <td>False</td>\n",
              "      <td>False</td>\n",
              "      <td>False</td>\n",
              "    </tr>\n",
              "    <tr>\n",
              "      <th>995</th>\n",
              "      <td>False</td>\n",
              "      <td>False</td>\n",
              "      <td>False</td>\n",
              "      <td>False</td>\n",
              "      <td>False</td>\n",
              "      <td>False</td>\n",
              "      <td>False</td>\n",
              "      <td>False</td>\n",
              "      <td>False</td>\n",
              "      <td>False</td>\n",
              "    </tr>\n",
              "    <tr>\n",
              "      <th>996</th>\n",
              "      <td>False</td>\n",
              "      <td>False</td>\n",
              "      <td>False</td>\n",
              "      <td>False</td>\n",
              "      <td>False</td>\n",
              "      <td>False</td>\n",
              "      <td>False</td>\n",
              "      <td>False</td>\n",
              "      <td>False</td>\n",
              "      <td>False</td>\n",
              "    </tr>\n",
              "    <tr>\n",
              "      <th>997</th>\n",
              "      <td>False</td>\n",
              "      <td>False</td>\n",
              "      <td>False</td>\n",
              "      <td>False</td>\n",
              "      <td>False</td>\n",
              "      <td>False</td>\n",
              "      <td>False</td>\n",
              "      <td>False</td>\n",
              "      <td>False</td>\n",
              "      <td>False</td>\n",
              "    </tr>\n",
              "  </tbody>\n",
              "</table>\n",
              "<p>998 rows × 10 columns</p>\n",
              "</div>"
            ],
            "text/plain": [
              "     cod_cliente  primeiro_nome  ultimo_nome  email  tipo_cliente  \\\n",
              "0          False          False        False  False         False   \n",
              "1          False          False        False  False         False   \n",
              "2          False          False        False  False         False   \n",
              "3          False          False        False  False         False   \n",
              "4          False          False        False  False         False   \n",
              "..           ...            ...          ...    ...           ...   \n",
              "993        False          False        False  False         False   \n",
              "994        False          False        False  False         False   \n",
              "995        False          False        False  False         False   \n",
              "996        False          False        False  False         False   \n",
              "997        False          False        False  False         False   \n",
              "\n",
              "     data_inclusao  cpfcnpj  data_nascimento  endereco    cep  \n",
              "0            False    False            False     False  False  \n",
              "1            False    False            False     False  False  \n",
              "2            False    False            False     False  False  \n",
              "3            False    False            False     False  False  \n",
              "4            False    False            False     False  False  \n",
              "..             ...      ...              ...       ...    ...  \n",
              "993          False    False            False     False  False  \n",
              "994          False    False            False     False  False  \n",
              "995          False    False            False     False  False  \n",
              "996          False    False            False     False  False  \n",
              "997          False    False            False     False  False  \n",
              "\n",
              "[998 rows x 10 columns]"
            ]
          },
          "execution_count": 10,
          "metadata": {},
          "output_type": "execute_result"
        }
      ],
      "source": [
        "df.isnull()"
      ]
    },
    {
      "cell_type": "code",
      "execution_count": null,
      "id": "21755cd3-9458-4a2e-9ec3-6bd54ed0005a",
      "metadata": {
        "id": "21755cd3-9458-4a2e-9ec3-6bd54ed0005a",
        "outputId": "68e3c2d4-6550-4a84-d6f3-7d08cb204504"
      },
      "outputs": [
        {
          "data": {
            "text/html": [
              "<div>\n",
              "<style scoped>\n",
              "    .dataframe tbody tr th:only-of-type {\n",
              "        vertical-align: middle;\n",
              "    }\n",
              "\n",
              "    .dataframe tbody tr th {\n",
              "        vertical-align: top;\n",
              "    }\n",
              "\n",
              "    .dataframe thead th {\n",
              "        text-align: right;\n",
              "    }\n",
              "</style>\n",
              "<table border=\"1\" class=\"dataframe\">\n",
              "  <thead>\n",
              "    <tr style=\"text-align: right;\">\n",
              "      <th></th>\n",
              "      <th>cod_cliente</th>\n",
              "      <th>primeiro_nome</th>\n",
              "      <th>ultimo_nome</th>\n",
              "      <th>email</th>\n",
              "      <th>tipo_cliente</th>\n",
              "      <th>data_inclusao</th>\n",
              "      <th>cpfcnpj</th>\n",
              "      <th>data_nascimento</th>\n",
              "      <th>endereco</th>\n",
              "      <th>cep</th>\n",
              "    </tr>\n",
              "  </thead>\n",
              "  <tbody>\n",
              "    <tr>\n",
              "      <th>0</th>\n",
              "      <td>28</td>\n",
              "      <td>Sabrina</td>\n",
              "      <td>Dias</td>\n",
              "      <td>moreiraemanuelly@example.org</td>\n",
              "      <td>PF</td>\n",
              "      <td>2017-04-03 16:11:00 UTC</td>\n",
              "      <td>357.081.496-39</td>\n",
              "      <td>2006-08-11</td>\n",
              "      <td>Praia de Duarte Vila Piratininga 81327-166 Fer...</td>\n",
              "      <td>95140-704</td>\n",
              "    </tr>\n",
              "    <tr>\n",
              "      <th>1</th>\n",
              "      <td>674</td>\n",
              "      <td>Luiz Felipe</td>\n",
              "      <td>Dias</td>\n",
              "      <td>pedroferreira@example.org</td>\n",
              "      <td>PF</td>\n",
              "      <td>2021-02-10 13:27:00 UTC</td>\n",
              "      <td>085.196.374-93</td>\n",
              "      <td>1995-10-11</td>\n",
              "      <td>Avenida da Rosa, 654 João Paulo Ii 20295449 Nu...</td>\n",
              "      <td>76516-765</td>\n",
              "    </tr>\n",
              "    <tr>\n",
              "      <th>2</th>\n",
              "      <td>693</td>\n",
              "      <td>Renan</td>\n",
              "      <td>Dias</td>\n",
              "      <td>ogomes@example.net</td>\n",
              "      <td>PF</td>\n",
              "      <td>2020-01-21 13:12:00 UTC</td>\n",
              "      <td>783.416.059-10</td>\n",
              "      <td>1948-11-19</td>\n",
              "      <td>Jardim de Rodrigues Ipiranga 14161-477 Duarte ...</td>\n",
              "      <td>51779625</td>\n",
              "    </tr>\n",
              "    <tr>\n",
              "      <th>3</th>\n",
              "      <td>743</td>\n",
              "      <td>Clara</td>\n",
              "      <td>Dias</td>\n",
              "      <td>rafaelcorreia@example.org</td>\n",
              "      <td>PF</td>\n",
              "      <td>2019-05-06 11:39:00 UTC</td>\n",
              "      <td>589.237.610-95</td>\n",
              "      <td>1978-01-27</td>\n",
              "      <td>Colônia Thomas Silva, 9 Tupi B 15771-946 Ferna...</td>\n",
              "      <td>19615792</td>\n",
              "    </tr>\n",
              "    <tr>\n",
              "      <th>4</th>\n",
              "      <td>769</td>\n",
              "      <td>André</td>\n",
              "      <td>Dias</td>\n",
              "      <td>danilo33@example.org</td>\n",
              "      <td>PF</td>\n",
              "      <td>2017-01-07 14:53:00 UTC</td>\n",
              "      <td>459.608.721-02</td>\n",
              "      <td>1990-08-25</td>\n",
              "      <td>Rua Correia, 889 Diamante 59123250 Aragão / RS</td>\n",
              "      <td>01672838</td>\n",
              "    </tr>\n",
              "  </tbody>\n",
              "</table>\n",
              "</div>"
            ],
            "text/plain": [
              "   cod_cliente primeiro_nome ultimo_nome                         email  \\\n",
              "0           28       Sabrina        Dias  moreiraemanuelly@example.org   \n",
              "1          674   Luiz Felipe        Dias     pedroferreira@example.org   \n",
              "2          693         Renan        Dias            ogomes@example.net   \n",
              "3          743         Clara        Dias     rafaelcorreia@example.org   \n",
              "4          769         André        Dias          danilo33@example.org   \n",
              "\n",
              "  tipo_cliente            data_inclusao         cpfcnpj data_nascimento  \\\n",
              "0           PF  2017-04-03 16:11:00 UTC  357.081.496-39      2006-08-11   \n",
              "1           PF  2021-02-10 13:27:00 UTC  085.196.374-93      1995-10-11   \n",
              "2           PF  2020-01-21 13:12:00 UTC  783.416.059-10      1948-11-19   \n",
              "3           PF  2019-05-06 11:39:00 UTC  589.237.610-95      1978-01-27   \n",
              "4           PF  2017-01-07 14:53:00 UTC  459.608.721-02      1990-08-25   \n",
              "\n",
              "                                            endereco        cep  \n",
              "0  Praia de Duarte Vila Piratininga 81327-166 Fer...  95140-704  \n",
              "1  Avenida da Rosa, 654 João Paulo Ii 20295449 Nu...  76516-765  \n",
              "2  Jardim de Rodrigues Ipiranga 14161-477 Duarte ...   51779625  \n",
              "3  Colônia Thomas Silva, 9 Tupi B 15771-946 Ferna...   19615792  \n",
              "4     Rua Correia, 889 Diamante 59123250 Aragão / RS   01672838  "
            ]
          },
          "execution_count": 12,
          "metadata": {},
          "output_type": "execute_result"
        }
      ],
      "source": [
        "df.head()"
      ]
    },
    {
      "cell_type": "code",
      "execution_count": null,
      "id": "418768e6-507c-45a0-8a66-e2bc26bcf3dc",
      "metadata": {
        "id": "418768e6-507c-45a0-8a66-e2bc26bcf3dc",
        "outputId": "677fee53-7637-4cb7-a8bf-0b1dc56b903b"
      },
      "outputs": [
        {
          "name": "stdout",
          "output_type": "stream",
          "text": [
            "<class 'pandas.core.frame.DataFrame'>\n",
            "RangeIndex: 998 entries, 0 to 997\n",
            "Data columns (total 10 columns):\n",
            " #   Column           Non-Null Count  Dtype \n",
            "---  ------           --------------  ----- \n",
            " 0   cod_cliente      998 non-null    int64 \n",
            " 1   primeiro_nome    998 non-null    object\n",
            " 2   ultimo_nome      998 non-null    object\n",
            " 3   email            998 non-null    object\n",
            " 4   tipo_cliente     998 non-null    object\n",
            " 5   data_inclusao    998 non-null    object\n",
            " 6   cpfcnpj          998 non-null    object\n",
            " 7   data_nascimento  998 non-null    object\n",
            " 8   endereco         998 non-null    object\n",
            " 9   cep              998 non-null    object\n",
            "dtypes: int64(1), object(9)\n",
            "memory usage: 78.1+ KB\n"
          ]
        }
      ],
      "source": [
        "df.info()"
      ]
    },
    {
      "cell_type": "code",
      "execution_count": null,
      "id": "235ad9a5-3aef-4706-8ee5-6671c435b796",
      "metadata": {
        "id": "235ad9a5-3aef-4706-8ee5-6671c435b796",
        "outputId": "bd84f9e0-7829-4775-ff3a-71f09d5925da"
      },
      "outputs": [
        {
          "data": {
            "text/html": [
              "<div>\n",
              "<style scoped>\n",
              "    .dataframe tbody tr th:only-of-type {\n",
              "        vertical-align: middle;\n",
              "    }\n",
              "\n",
              "    .dataframe tbody tr th {\n",
              "        vertical-align: top;\n",
              "    }\n",
              "\n",
              "    .dataframe thead th {\n",
              "        text-align: right;\n",
              "    }\n",
              "</style>\n",
              "<table border=\"1\" class=\"dataframe\">\n",
              "  <thead>\n",
              "    <tr style=\"text-align: right;\">\n",
              "      <th></th>\n",
              "      <th>cod_cliente</th>\n",
              "    </tr>\n",
              "  </thead>\n",
              "  <tbody>\n",
              "    <tr>\n",
              "      <th>count</th>\n",
              "      <td>998.000000</td>\n",
              "    </tr>\n",
              "    <tr>\n",
              "      <th>mean</th>\n",
              "      <td>499.971944</td>\n",
              "    </tr>\n",
              "    <tr>\n",
              "      <th>std</th>\n",
              "      <td>288.674061</td>\n",
              "    </tr>\n",
              "    <tr>\n",
              "      <th>min</th>\n",
              "      <td>1.000000</td>\n",
              "    </tr>\n",
              "    <tr>\n",
              "      <th>25%</th>\n",
              "      <td>250.250000</td>\n",
              "    </tr>\n",
              "    <tr>\n",
              "      <th>50%</th>\n",
              "      <td>499.500000</td>\n",
              "    </tr>\n",
              "    <tr>\n",
              "      <th>75%</th>\n",
              "      <td>749.750000</td>\n",
              "    </tr>\n",
              "    <tr>\n",
              "      <th>max</th>\n",
              "      <td>999.000000</td>\n",
              "    </tr>\n",
              "  </tbody>\n",
              "</table>\n",
              "</div>"
            ],
            "text/plain": [
              "       cod_cliente\n",
              "count   998.000000\n",
              "mean    499.971944\n",
              "std     288.674061\n",
              "min       1.000000\n",
              "25%     250.250000\n",
              "50%     499.500000\n",
              "75%     749.750000\n",
              "max     999.000000"
            ]
          },
          "execution_count": 16,
          "metadata": {},
          "output_type": "execute_result"
        }
      ],
      "source": [
        "df.describe()"
      ]
    },
    {
      "cell_type": "code",
      "execution_count": null,
      "id": "e4b41a20-e5ae-4e30-8db6-97c8c4a1c291",
      "metadata": {
        "id": "e4b41a20-e5ae-4e30-8db6-97c8c4a1c291",
        "outputId": "50fb63b1-eb61-45ce-c2ca-7400d05b4b80"
      },
      "outputs": [
        {
          "data": {
            "text/plain": [
              "tipo_cliente\n",
              "PF    998\n",
              "Name: count, dtype: int64"
            ]
          },
          "execution_count": 18,
          "metadata": {},
          "output_type": "execute_result"
        }
      ],
      "source": [
        "df['tipo_cliente'].value_counts()"
      ]
    },
    {
      "cell_type": "code",
      "execution_count": null,
      "id": "b3262e6b-4e84-4f2f-8470-7cd06366d38d",
      "metadata": {
        "id": "b3262e6b-4e84-4f2f-8470-7cd06366d38d"
      },
      "outputs": [],
      "source": [
        "df['data_nascimento'] = pd.to_datetime(df['data_nascimento'])\n",
        "df['data_inclusao'] = pd.to_datetime(df['data_inclusao'])"
      ]
    },
    {
      "cell_type": "code",
      "execution_count": null,
      "id": "c992a665-f9dd-406e-b31b-94af3d9a35b0",
      "metadata": {
        "id": "c992a665-f9dd-406e-b31b-94af3d9a35b0",
        "outputId": "7eb57e2a-9a93-4616-b795-d761cadee693"
      },
      "outputs": [
        {
          "name": "stdout",
          "output_type": "stream",
          "text": [
            "<class 'pandas.core.frame.DataFrame'>\n",
            "RangeIndex: 998 entries, 0 to 997\n",
            "Data columns (total 10 columns):\n",
            " #   Column           Non-Null Count  Dtype              \n",
            "---  ------           --------------  -----              \n",
            " 0   cod_cliente      998 non-null    int64              \n",
            " 1   primeiro_nome    998 non-null    object             \n",
            " 2   ultimo_nome      998 non-null    object             \n",
            " 3   email            998 non-null    object             \n",
            " 4   tipo_cliente     998 non-null    object             \n",
            " 5   data_inclusao    998 non-null    datetime64[ns, UTC]\n",
            " 6   cpfcnpj          998 non-null    object             \n",
            " 7   data_nascimento  998 non-null    datetime64[ns]     \n",
            " 8   endereco         998 non-null    object             \n",
            " 9   cep              998 non-null    object             \n",
            "dtypes: datetime64[ns, UTC](1), datetime64[ns](1), int64(1), object(7)\n",
            "memory usage: 78.1+ KB\n"
          ]
        }
      ],
      "source": [
        "df.info()"
      ]
    },
    {
      "cell_type": "code",
      "execution_count": null,
      "id": "a435421f-e133-4b50-b3e3-0be58a8ec381",
      "metadata": {
        "id": "a435421f-e133-4b50-b3e3-0be58a8ec381"
      },
      "outputs": [],
      "source": []
    }
  ],
  "metadata": {
    "kernelspec": {
      "display_name": "Python [conda env:base] *",
      "language": "python",
      "name": "conda-base-py"
    },
    "language_info": {
      "codemirror_mode": {
        "name": "ipython",
        "version": 3
      },
      "file_extension": ".py",
      "mimetype": "text/x-python",
      "name": "python",
      "nbconvert_exporter": "python",
      "pygments_lexer": "ipython3",
      "version": "3.12.7"
    },
    "colab": {
      "provenance": [],
      "include_colab_link": true
    }
  },
  "nbformat": 4,
  "nbformat_minor": 5
}